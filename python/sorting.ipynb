{
 "cells": [
  {
   "cell_type": "markdown",
   "metadata": {},
   "source": [
    "Bubble Sort is a simple sorting algorithm. This sorting algorithm repeatedly compares two adjacent elements and swaps them if they are in the wrong order. It is also known as the sinking sort. It has a time complexity of O(n2) in the average and worst cases scenarios and O(n) in the best-case scenario."
   ]
  },
  {
   "cell_type": "code",
   "execution_count": 7,
   "metadata": {},
   "outputs": [
    {
     "name": "stdout",
     "output_type": "stream",
     "text": [
      "[1, 20, 15, 7]\n",
      "[1, 15, 20, 7]\n",
      "[1, 15, 7, 20]\n",
      "======================\n",
      "[1, 15, 7, 20]\n",
      "[1, 7, 15, 20]\n",
      "======================\n",
      "[1, 7, 15, 20]\n",
      "======================\n",
      "======================\n",
      "Sorted array is:\n",
      "1\n",
      "7\n",
      "15\n",
      "20\n"
     ]
    }
   ],
   "source": [
    "def bubbleSort(arr):\n",
    "    \n",
    "    n = len(arr)\n",
    "\n",
    "    # For loop to traverse through all \n",
    "    # element in an array\n",
    "    for i in range(n):\n",
    "        for j in range(0, n - i - 1):\n",
    "            # Range of the array is from 0 to n-i-1\n",
    "            # Swap the elements if the element found \n",
    "            #is greater than the adjacent element\n",
    "            if arr[j] > arr[j + 1]:\n",
    "                arr[j], arr[j + 1] = arr[j + 1], arr[j]\n",
    "            print(arr)\n",
    "        print(\"======================\")\n",
    "                \n",
    "# Driver code\n",
    "\n",
    "# Example to test the above code\n",
    "arr = [1,20,15,7]\n",
    "\n",
    "bubbleSort(arr)\n",
    "\n",
    "print(\"Sorted array is:\")\n",
    "for i in range(len(arr)):\n",
    "    print(\"%d\" % arr[i])\n"
   ]
  },
  {
   "cell_type": "code",
   "execution_count": 10,
   "metadata": {},
   "outputs": [
    {
     "name": "stdout",
     "output_type": "stream",
     "text": [
      "[1, 2, 3, 17, 22, 34, 56, 83, 107]\n"
     ]
    }
   ],
   "source": [
    "l = [1,2,3,17,83,22,56,107,34]\n",
    "\n",
    "n = len(l)\n",
    "for i in range(n):\n",
    "    for j in range(0,n-i-1):\n",
    "        if l[j]>l[j+1]:\n",
    "            l[j],l[j+1] = l[j+1],l[j]\n",
    "    #     print(l)\n",
    "    # print(\"=======================\")\n",
    "\n",
    "print(l)"
   ]
  },
  {
   "cell_type": "code",
   "execution_count": 15,
   "metadata": {},
   "outputs": [
    {
     "name": "stdout",
     "output_type": "stream",
     "text": [
      "[1, 20, 15, 7]\n",
      "[1, 7, 15, 20]\n",
      "[1, 7, 15, 20]\n",
      "[1, 7, 15, 20]\n",
      "Sorted Array in Ascending Order is :\n",
      "[1, 7, 15, 20]\n"
     ]
    }
   ],
   "source": [
    "# Selection Sort algorithm in Python\n",
    "def selectionSort(array, size):\n",
    "    \n",
    "    for s in range(size):\n",
    "        min_idx = s\n",
    "        \n",
    "        for i in range(s + 1, size):\n",
    "            \n",
    "            # For sorting in descending order\n",
    "            # for minimum element in each loop\n",
    "            if array[i] < array[min_idx]:\n",
    "                min_idx = i\n",
    "\n",
    "        # Arranging min at the correct position\n",
    "        (array[s], array[min_idx]) = (array[min_idx], array[s])\n",
    "        print(data)\n",
    "\n",
    "# Driver code\n",
    "data = [1,20,15,7]\n",
    "size = len(data)\n",
    "selectionSort(data, size)\n",
    "\n",
    "print('Sorted Array in Ascending Order is :')\n",
    "print(data)\n"
   ]
  },
  {
   "cell_type": "code",
   "execution_count": 17,
   "metadata": {},
   "outputs": [
    {
     "name": "stdout",
     "output_type": "stream",
     "text": [
      "[1, 2, 3, 4, 7, 9]\n"
     ]
    }
   ],
   "source": [
    "l = [1,4,2,7,9,3]\n",
    "\n",
    "n = len(l)\n",
    "for i in range(n):\n",
    "    for j in range(n-i-1):\n",
    "        if l[j]>l[j+1]:\n",
    "            l[j],l[j+1] = l[j+1],l[j]\n",
    "print(l)"
   ]
  },
  {
   "cell_type": "code",
   "execution_count": null,
   "metadata": {},
   "outputs": [],
   "source": []
  }
 ],
 "metadata": {
  "kernelspec": {
   "display_name": "venv",
   "language": "python",
   "name": "python3"
  },
  "language_info": {
   "codemirror_mode": {
    "name": "ipython",
    "version": 3
   },
   "file_extension": ".py",
   "mimetype": "text/x-python",
   "name": "python",
   "nbconvert_exporter": "python",
   "pygments_lexer": "ipython3",
   "version": "3.12.4"
  }
 },
 "nbformat": 4,
 "nbformat_minor": 2
}
